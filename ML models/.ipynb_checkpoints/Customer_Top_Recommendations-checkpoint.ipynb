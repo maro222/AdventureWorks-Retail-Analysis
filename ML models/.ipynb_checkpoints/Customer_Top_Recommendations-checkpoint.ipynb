{
 "cells": [
  {
   "cell_type": "code",
   "execution_count": 8,
   "metadata": {
    "colab": {
     "base_uri": "https://localhost:8080/"
    },
    "id": "-YxFosRsNaKq",
    "outputId": "06d9978e-cc22-458e-d7e2-f6dbc1017685"
   },
   "outputs": [
    {
     "name": "stdout",
     "output_type": "stream",
     "text": [
      "Collecting surprise\n",
      "  Obtaining dependency information for surprise from https://files.pythonhosted.org/packages/61/de/e5cba8682201fcf9c3719a6fdda95693468ed061945493dea2dd37c5618b/surprise-0.1-py2.py3-none-any.whl.metadata\n",
      "  Using cached surprise-0.1-py2.py3-none-any.whl.metadata (327 bytes)\n",
      "Collecting scikit-surprise (from surprise)\n",
      "  Using cached scikit_surprise-1.1.4.tar.gz (154 kB)\n",
      "  Installing build dependencies: started\n",
      "  Installing build dependencies: finished with status 'done'\n",
      "  Getting requirements to build wheel: started\n",
      "  Getting requirements to build wheel: finished with status 'done'\n",
      "  Preparing metadata (pyproject.toml): started\n",
      "  Preparing metadata (pyproject.toml): finished with status 'done'\n",
      "Requirement already satisfied: joblib>=1.2.0 in c:\\users\\user\\anaconda3\\lib\\site-packages (from scikit-surprise->surprise) (1.2.0)\n",
      "Requirement already satisfied: numpy>=1.19.5 in c:\\users\\user\\anaconda3\\lib\\site-packages (from scikit-surprise->surprise) (1.24.3)\n",
      "Requirement already satisfied: scipy>=1.6.0 in c:\\users\\user\\anaconda3\\lib\\site-packages (from scikit-surprise->surprise) (1.11.1)\n",
      "Using cached surprise-0.1-py2.py3-none-any.whl (1.8 kB)\n",
      "Building wheels for collected packages: scikit-surprise\n",
      "  Building wheel for scikit-surprise (pyproject.toml): started\n",
      "  Building wheel for scikit-surprise (pyproject.toml): finished with status 'error'\n",
      "Failed to build scikit-surprise\n"
     ]
    },
    {
     "name": "stderr",
     "output_type": "stream",
     "text": [
      "  error: subprocess-exited-with-error\n",
      "  \n",
      "  Building wheel for scikit-surprise (pyproject.toml) did not run successfully.\n",
      "  exit code: 1\n",
      "  \n",
      "  [115 lines of output]\n",
      "  running bdist_wheel\n",
      "  running build\n",
      "  running build_py\n",
      "  creating build\\lib.win-amd64-cpython-311\\surprise\n",
      "  copying surprise\\accuracy.py -> build\\lib.win-amd64-cpython-311\\surprise\n",
      "  copying surprise\\builtin_datasets.py -> build\\lib.win-amd64-cpython-311\\surprise\n",
      "  copying surprise\\dataset.py -> build\\lib.win-amd64-cpython-311\\surprise\n",
      "  copying surprise\\dump.py -> build\\lib.win-amd64-cpython-311\\surprise\n",
      "  copying surprise\\reader.py -> build\\lib.win-amd64-cpython-311\\surprise\n",
      "  copying surprise\\trainset.py -> build\\lib.win-amd64-cpython-311\\surprise\n",
      "  copying surprise\\utils.py -> build\\lib.win-amd64-cpython-311\\surprise\n",
      "  copying surprise\\__init__.py -> build\\lib.win-amd64-cpython-311\\surprise\n",
      "  copying surprise\\__main__.py -> build\\lib.win-amd64-cpython-311\\surprise\n",
      "  creating build\\lib.win-amd64-cpython-311\\surprise\\model_selection\n",
      "  copying surprise\\model_selection\\search.py -> build\\lib.win-amd64-cpython-311\\surprise\\model_selection\n",
      "  copying surprise\\model_selection\\split.py -> build\\lib.win-amd64-cpython-311\\surprise\\model_selection\n",
      "  copying surprise\\model_selection\\validation.py -> build\\lib.win-amd64-cpython-311\\surprise\\model_selection\n",
      "  copying surprise\\model_selection\\__init__.py -> build\\lib.win-amd64-cpython-311\\surprise\\model_selection\n",
      "  creating build\\lib.win-amd64-cpython-311\\surprise\\prediction_algorithms\n",
      "  copying surprise\\prediction_algorithms\\algo_base.py -> build\\lib.win-amd64-cpython-311\\surprise\\prediction_algorithms\n",
      "  copying surprise\\prediction_algorithms\\baseline_only.py -> build\\lib.win-amd64-cpython-311\\surprise\\prediction_algorithms\n",
      "  copying surprise\\prediction_algorithms\\knns.py -> build\\lib.win-amd64-cpython-311\\surprise\\prediction_algorithms\n",
      "  copying surprise\\prediction_algorithms\\predictions.py -> build\\lib.win-amd64-cpython-311\\surprise\\prediction_algorithms\n",
      "  copying surprise\\prediction_algorithms\\random_pred.py -> build\\lib.win-amd64-cpython-311\\surprise\\prediction_algorithms\n",
      "  copying surprise\\prediction_algorithms\\__init__.py -> build\\lib.win-amd64-cpython-311\\surprise\\prediction_algorithms\n",
      "  running egg_info\n",
      "  writing scikit_surprise.egg-info\\PKG-INFO\n",
      "  writing dependency_links to scikit_surprise.egg-info\\dependency_links.txt\n",
      "  writing entry points to scikit_surprise.egg-info\\entry_points.txt\n",
      "  writing requirements to scikit_surprise.egg-info\\requires.txt\n",
      "  writing top-level names to scikit_surprise.egg-info\\top_level.txt\n",
      "  dependency C:\\Users\\user\\AppData\\Local\\Temp\\pip-build-env-ak8h6w_m\\overlay\\Lib\\site-packages\\numpy\\core\\include\\numpy\\arrayobject.h won't be automatically included in the manifest: the path must be relative\n",
      "  dependency C:\\Users\\user\\AppData\\Local\\Temp\\pip-build-env-ak8h6w_m\\overlay\\Lib\\site-packages\\numpy\\core\\include\\numpy\\arrayscalars.h won't be automatically included in the manifest: the path must be relative\n",
      "  dependency C:\\Users\\user\\AppData\\Local\\Temp\\pip-build-env-ak8h6w_m\\overlay\\Lib\\site-packages\\numpy\\core\\include\\numpy\\ndarrayobject.h won't be automatically included in the manifest: the path must be relative\n",
      "  dependency C:\\Users\\user\\AppData\\Local\\Temp\\pip-build-env-ak8h6w_m\\overlay\\Lib\\site-packages\\numpy\\core\\include\\numpy\\ndarraytypes.h won't be automatically included in the manifest: the path must be relative\n",
      "  dependency C:\\Users\\user\\AppData\\Local\\Temp\\pip-build-env-ak8h6w_m\\overlay\\Lib\\site-packages\\numpy\\core\\include\\numpy\\ufuncobject.h won't be automatically included in the manifest: the path must be relative\n",
      "  dependency C:\\Users\\user\\AppData\\Local\\Temp\\pip-build-env-ak8h6w_m\\overlay\\Lib\\site-packages\\numpy\\core\\include\\numpy\\arrayobject.h won't be automatically included in the manifest: the path must be relative\n",
      "  dependency C:\\Users\\user\\AppData\\Local\\Temp\\pip-build-env-ak8h6w_m\\overlay\\Lib\\site-packages\\numpy\\core\\include\\numpy\\arrayscalars.h won't be automatically included in the manifest: the path must be relative\n",
      "  dependency C:\\Users\\user\\AppData\\Local\\Temp\\pip-build-env-ak8h6w_m\\overlay\\Lib\\site-packages\\numpy\\core\\include\\numpy\\ndarrayobject.h won't be automatically included in the manifest: the path must be relative\n",
      "  dependency C:\\Users\\user\\AppData\\Local\\Temp\\pip-build-env-ak8h6w_m\\overlay\\Lib\\site-packages\\numpy\\core\\include\\numpy\\ndarraytypes.h won't be automatically included in the manifest: the path must be relative\n",
      "  dependency C:\\Users\\user\\AppData\\Local\\Temp\\pip-build-env-ak8h6w_m\\overlay\\Lib\\site-packages\\numpy\\core\\include\\numpy\\ufuncobject.h won't be automatically included in the manifest: the path must be relative\n",
      "  dependency C:\\Users\\user\\AppData\\Local\\Temp\\pip-build-env-ak8h6w_m\\overlay\\Lib\\site-packages\\numpy\\core\\include\\numpy\\arrayobject.h won't be automatically included in the manifest: the path must be relative\n",
      "  dependency C:\\Users\\user\\AppData\\Local\\Temp\\pip-build-env-ak8h6w_m\\overlay\\Lib\\site-packages\\numpy\\core\\include\\numpy\\arrayscalars.h won't be automatically included in the manifest: the path must be relative\n",
      "  dependency C:\\Users\\user\\AppData\\Local\\Temp\\pip-build-env-ak8h6w_m\\overlay\\Lib\\site-packages\\numpy\\core\\include\\numpy\\ndarrayobject.h won't be automatically included in the manifest: the path must be relative\n",
      "  dependency C:\\Users\\user\\AppData\\Local\\Temp\\pip-build-env-ak8h6w_m\\overlay\\Lib\\site-packages\\numpy\\core\\include\\numpy\\ndarraytypes.h won't be automatically included in the manifest: the path must be relative\n",
      "  dependency C:\\Users\\user\\AppData\\Local\\Temp\\pip-build-env-ak8h6w_m\\overlay\\Lib\\site-packages\\numpy\\core\\include\\numpy\\ufuncobject.h won't be automatically included in the manifest: the path must be relative\n",
      "  dependency C:\\Users\\user\\AppData\\Local\\Temp\\pip-build-env-ak8h6w_m\\overlay\\Lib\\site-packages\\numpy\\core\\include\\numpy\\arrayobject.h won't be automatically included in the manifest: the path must be relative\n",
      "  dependency C:\\Users\\user\\AppData\\Local\\Temp\\pip-build-env-ak8h6w_m\\overlay\\Lib\\site-packages\\numpy\\core\\include\\numpy\\arrayscalars.h won't be automatically included in the manifest: the path must be relative\n",
      "  dependency C:\\Users\\user\\AppData\\Local\\Temp\\pip-build-env-ak8h6w_m\\overlay\\Lib\\site-packages\\numpy\\core\\include\\numpy\\ndarrayobject.h won't be automatically included in the manifest: the path must be relative\n",
      "  dependency C:\\Users\\user\\AppData\\Local\\Temp\\pip-build-env-ak8h6w_m\\overlay\\Lib\\site-packages\\numpy\\core\\include\\numpy\\ndarraytypes.h won't be automatically included in the manifest: the path must be relative\n",
      "  dependency C:\\Users\\user\\AppData\\Local\\Temp\\pip-build-env-ak8h6w_m\\overlay\\Lib\\site-packages\\numpy\\core\\include\\numpy\\ufuncobject.h won't be automatically included in the manifest: the path must be relative\n",
      "  dependency C:\\Users\\user\\AppData\\Local\\Temp\\pip-build-env-ak8h6w_m\\overlay\\Lib\\site-packages\\numpy\\core\\include\\numpy\\arrayobject.h won't be automatically included in the manifest: the path must be relative\n",
      "  dependency C:\\Users\\user\\AppData\\Local\\Temp\\pip-build-env-ak8h6w_m\\overlay\\Lib\\site-packages\\numpy\\core\\include\\numpy\\arrayscalars.h won't be automatically included in the manifest: the path must be relative\n",
      "  dependency C:\\Users\\user\\AppData\\Local\\Temp\\pip-build-env-ak8h6w_m\\overlay\\Lib\\site-packages\\numpy\\core\\include\\numpy\\ndarrayobject.h won't be automatically included in the manifest: the path must be relative\n",
      "  dependency C:\\Users\\user\\AppData\\Local\\Temp\\pip-build-env-ak8h6w_m\\overlay\\Lib\\site-packages\\numpy\\core\\include\\numpy\\ndarraytypes.h won't be automatically included in the manifest: the path must be relative\n",
      "  dependency C:\\Users\\user\\AppData\\Local\\Temp\\pip-build-env-ak8h6w_m\\overlay\\Lib\\site-packages\\numpy\\core\\include\\numpy\\ufuncobject.h won't be automatically included in the manifest: the path must be relative\n",
      "  reading manifest file 'scikit_surprise.egg-info\\SOURCES.txt'\n",
      "  reading manifest template 'MANIFEST.in'\n",
      "  warning: no previously-included files matching '*.so' found under directory 'surprise'\n",
      "  adding license file 'LICENSE.md'\n",
      "  writing manifest file 'scikit_surprise.egg-info\\SOURCES.txt'\n",
      "  C:\\Users\\user\\AppData\\Local\\Temp\\pip-build-env-ak8h6w_m\\overlay\\Lib\\site-packages\\setuptools\\command\\build_py.py:218: _Warning: Package 'surprise.prediction_algorithms' is absent from the `packages` configuration.\n",
      "  !!\n",
      "  \n",
      "          ********************************************************************************\n",
      "          ############################\n",
      "          # Package would be ignored #\n",
      "          ############################\n",
      "          Python recognizes 'surprise.prediction_algorithms' as an importable package[^1],\n",
      "          but it is absent from setuptools' `packages` configuration.\n",
      "  \n",
      "          This leads to an ambiguous overall configuration. If you want to distribute this\n",
      "          package, please make sure that 'surprise.prediction_algorithms' is explicitly added\n",
      "          to the `packages` configuration field.\n",
      "  \n",
      "          Alternatively, you can also rely on setuptools' discovery methods\n",
      "          (for example by using `find_namespace_packages(...)`/`find_namespace:`\n",
      "          instead of `find_packages(...)`/`find:`).\n",
      "  \n",
      "          You can read more about \"package discovery\" on setuptools documentation page:\n",
      "  \n",
      "          - https://setuptools.pypa.io/en/latest/userguide/package_discovery.html\n",
      "  \n",
      "          If you don't want 'surprise.prediction_algorithms' to be distributed and are\n",
      "          already explicitly excluding 'surprise.prediction_algorithms' via\n",
      "          `find_namespace_packages(...)/find_namespace` or `find_packages(...)/find`,\n",
      "          you can try to use `exclude_package_data`, or `include-package-data=False` in\n",
      "          combination with a more fine grained `package-data` configuration.\n",
      "  \n",
      "          You can read more about \"package data files\" on setuptools documentation page:\n",
      "  \n",
      "          - https://setuptools.pypa.io/en/latest/userguide/datafiles.html\n",
      "  \n",
      "  \n",
      "          [^1]: For Python, any directory (with suitable naming) can be imported,\n",
      "                even if it does not contain any `.py` files.\n",
      "                On the other hand, currently there is no concept of package data\n",
      "                directory, all directories are treated like packages.\n",
      "          ********************************************************************************\n",
      "  \n",
      "  !!\n",
      "    check.warn(importable)\n",
      "  copying surprise\\similarities.c -> build\\lib.win-amd64-cpython-311\\surprise\n",
      "  copying surprise\\similarities.pyx -> build\\lib.win-amd64-cpython-311\\surprise\n",
      "  copying surprise\\prediction_algorithms\\co_clustering.c -> build\\lib.win-amd64-cpython-311\\surprise\\prediction_algorithms\n",
      "  copying surprise\\prediction_algorithms\\matrix_factorization.c -> build\\lib.win-amd64-cpython-311\\surprise\\prediction_algorithms\n",
      "  copying surprise\\prediction_algorithms\\optimize_baselines.c -> build\\lib.win-amd64-cpython-311\\surprise\\prediction_algorithms\n",
      "  copying surprise\\prediction_algorithms\\slope_one.c -> build\\lib.win-amd64-cpython-311\\surprise\\prediction_algorithms\n",
      "  copying surprise\\prediction_algorithms\\co_clustering.pyx -> build\\lib.win-amd64-cpython-311\\surprise\\prediction_algorithms\n",
      "  copying surprise\\prediction_algorithms\\matrix_factorization.pyx -> build\\lib.win-amd64-cpython-311\\surprise\\prediction_algorithms\n",
      "  copying surprise\\prediction_algorithms\\optimize_baselines.pyx -> build\\lib.win-amd64-cpython-311\\surprise\\prediction_algorithms\n",
      "  copying surprise\\prediction_algorithms\\slope_one.pyx -> build\\lib.win-amd64-cpython-311\\surprise\\prediction_algorithms\n",
      "  running build_ext\n",
      "  building 'surprise.similarities' extension\n",
      "  error: Microsoft Visual C++ 14.0 or greater is required. Get it with \"Microsoft C++ Build Tools\": https://visualstudio.microsoft.com/visual-cpp-build-tools/\n",
      "  [end of output]\n",
      "  \n",
      "  note: This error originates from a subprocess, and is likely not a problem with pip.\n",
      "  ERROR: Failed building wheel for scikit-surprise\n",
      "ERROR: Could not build wheels for scikit-surprise, which is required to install pyproject.toml-based projects\n"
     ]
    }
   ],
   "source": [
    "!pip install surprise\n",
    "# pip install pandas\n",
    "# !pip install matplotlib\n",
    "# !pip install seaborn\n",
    "# !pip install scikit-learn\n",
    "# !pip install numpy\n",
    "# !pip install gradio\n"
   ]
  },
  {
   "cell_type": "code",
   "execution_count": 7,
   "metadata": {
    "id": "oMqTxjiHtYcE"
   },
   "outputs": [
    {
     "ename": "ModuleNotFoundError",
     "evalue": "No module named 'surprise'",
     "output_type": "error",
     "traceback": [
      "\u001b[1;31m---------------------------------------------------------------------------\u001b[0m",
      "\u001b[1;31mModuleNotFoundError\u001b[0m                       Traceback (most recent call last)",
      "Cell \u001b[1;32mIn[7], line 3\u001b[0m\n\u001b[0;32m      1\u001b[0m \u001b[38;5;28;01mimport\u001b[39;00m \u001b[38;5;21;01mpandas\u001b[39;00m \u001b[38;5;28;01mas\u001b[39;00m \u001b[38;5;21;01mpd\u001b[39;00m\n\u001b[0;32m      2\u001b[0m \u001b[38;5;28;01mimport\u001b[39;00m \u001b[38;5;21;01mmatplotlib\u001b[39;00m\u001b[38;5;21;01m.\u001b[39;00m\u001b[38;5;21;01mpyplot\u001b[39;00m \u001b[38;5;28;01mas\u001b[39;00m \u001b[38;5;21;01mplt\u001b[39;00m\n\u001b[1;32m----> 3\u001b[0m \u001b[38;5;28;01mfrom\u001b[39;00m \u001b[38;5;21;01msurprise\u001b[39;00m \u001b[38;5;28;01mimport\u001b[39;00m Dataset, Reader, SVD\n\u001b[0;32m      4\u001b[0m \u001b[38;5;28;01mfrom\u001b[39;00m \u001b[38;5;21;01msurprise\u001b[39;00m\u001b[38;5;21;01m.\u001b[39;00m\u001b[38;5;21;01mmodel_selection\u001b[39;00m \u001b[38;5;28;01mimport\u001b[39;00m train_test_split\n\u001b[0;32m      5\u001b[0m \u001b[38;5;28;01mfrom\u001b[39;00m \u001b[38;5;21;01msurprise\u001b[39;00m \u001b[38;5;28;01mimport\u001b[39;00m accuracy\n",
      "\u001b[1;31mModuleNotFoundError\u001b[0m: No module named 'surprise'"
     ]
    }
   ],
   "source": [
    "import pandas as pd\n",
    "import matplotlib.pyplot as plt\n",
    "from surprise import Dataset, Reader, SVD\n",
    "from surprise.model_selection import train_test_split\n",
    "from surprise import accuracy\n",
    "from sklearn.metrics import precision_score, recall_score,accuracy_score\n",
    "from imblearn.over_sampling import SMOTE\n",
    "\n"
   ]
  },
  {
   "cell_type": "code",
   "execution_count": null,
   "metadata": {
    "id": "NRFNRtN-ujxR"
   },
   "outputs": [],
   "source": [
    "data=pd.read_csv('../Dataset/query1_cust_recom.csv',delimiter='\\t')"
   ]
  },
  {
   "cell_type": "code",
   "execution_count": null,
   "metadata": {
    "colab": {
     "base_uri": "https://localhost:8080/"
    },
    "id": "3vRqj1AMyLSU",
    "outputId": "f4f9b77d-fee8-41c7-98b1-0d47f7ea0fff"
   },
   "outputs": [],
   "source": [
    "print(data.head(10))"
   ]
  },
  {
   "cell_type": "code",
   "execution_count": null,
   "metadata": {
    "colab": {
     "base_uri": "https://localhost:8080/",
     "height": 267
    },
    "id": "RR7u23LPvOhP",
    "outputId": "36b1f518-dcec-49ad-a56d-2c7b8db0fe22"
   },
   "outputs": [],
   "source": [
    "reader=Reader(rating_scale=(0,1))\n",
    "data['Purchased']=1\n",
    "user_product_matrix = data.pivot_table(index='CustomerID', columns='ProductKey', values='Purchased', fill_value=0)\n",
    "user_product_matrix.head()"
   ]
  },
  {
   "cell_type": "code",
   "execution_count": null,
   "metadata": {
    "id": "j52yrNNmyKN5"
   },
   "outputs": [],
   "source": [
    "ratings=[]\n",
    "for user_id, row in user_product_matrix.iterrows():\n",
    "  for product_id, purchase in row.items():\n",
    "    ratings.append((user_id,product_id,purchase))"
   ]
  },
  {
   "cell_type": "code",
   "execution_count": null,
   "metadata": {
    "colab": {
     "base_uri": "https://localhost:8080/",
     "height": 206
    },
    "id": "QZGiK4P9PBH1",
    "outputId": "ff6e2514-d4e4-41d5-835f-adc001013055"
   },
   "outputs": [],
   "source": [
    "ratings_df=pd.DataFrame(ratings, columns=['CustomerID','ProductID','Purchased'])\n",
    "temp=ratings_df.copy()"
   ]
  },
  {
   "cell_type": "code",
   "execution_count": null,
   "metadata": {
    "colab": {
     "base_uri": "https://localhost:8080/",
     "height": 472
    },
    "id": "LI2h8Iq8PFCg",
    "outputId": "2c7da85d-34af-4e31-e494-3ba0dadadd86"
   },
   "outputs": [],
   "source": [
    "import matplotlib.pyplot as plt\n",
    "\n",
    "# Count the occurrences of 1s (purchased) and 0s (not purchased)\n",
    "purchase_counts = ratings_df['Purchased'].value_counts()\n",
    "\n",
    "# Plot a bar chart\n",
    "plt.bar(purchase_counts.index, purchase_counts.values, color=['skyblue', 'salmon'])\n",
    "\n",
    "# Add labels and title\n",
    "plt.xticks([0, 1], ['Not Purchased (0)', 'Purchased (1)'])\n",
    "plt.xlabel('Purchase Status')\n",
    "plt.ylabel('Count')\n",
    "plt.title('Distribution of Purchased vs Not Purchased')\n",
    "\n",
    "# Show the plot\n",
    "plt.show()\n"
   ]
  },
  {
   "cell_type": "code",
   "execution_count": null,
   "metadata": {
    "id": "Q5YxzhNQvBF2"
   },
   "outputs": [],
   "source": [
    "surprise_data=Dataset.load_from_df(ratings_df[['CustomerID','ProductID','Purchased']],reader)\n",
    "trainset, testset = train_test_split(surprise_data, test_size=0.2,random_state=300)\n"
   ]
  },
  {
   "cell_type": "code",
   "execution_count": null,
   "metadata": {
    "colab": {
     "base_uri": "https://localhost:8080/"
    },
    "id": "eloquWD90DlZ",
    "outputId": "6d444f60-a537-4ac4-e659-c5fd9b155fc9"
   },
   "outputs": [],
   "source": [
    "model = SVD(reg_all=0.2)#req_all: controls data overfitting lowest:OverFitting,, Highesr::UnderFitting\n",
    "\n",
    "model.fit(trainset)\n",
    "\n",
    "predictions = model.test(testset)\n",
    "\n",
    "print(\"RMSE:\", accuracy.rmse(predictions))\n"
   ]
  },
  {
   "cell_type": "code",
   "execution_count": null,
   "metadata": {
    "id": "JnrFtgCY6FgO"
   },
   "outputs": [],
   "source": [
    "def get_product_recommendations(customer_id, n=50): # n: number of products that not Purchased\n",
    "    if customer_id not in user_product_matrix.index:\n",
    "        print(f\"Customer ID {customer_id} not found in the data.\")\n",
    "        return []\n",
    "\n",
    "    customer_products = user_product_matrix.loc[customer_id]\n",
    "    unPurchased_products = customer_products[customer_products == 0].index.tolist()  # Get unPurchased products\n",
    "\n",
    "    # Predict ratings for unPurchased products\n",
    "    recommendations = []\n",
    "    for product_id in unPurchased_products:\n",
    "        est_rating = model.predict(customer_id, product_id).est\n",
    "        recommendations.append((product_id, est_rating))\n",
    "\n",
    "    # Sort recommendations by estimated rating\n",
    "    recommendations.sort(key=lambda x: x[1], reverse=True) #x[1] to sort on the product_id column\n",
    "\n",
    "    return recommendations[:n]"
   ]
  },
  {
   "cell_type": "code",
   "execution_count": null,
   "metadata": {
    "colab": {
     "base_uri": "https://localhost:8080/"
    },
    "id": "ki7ymimB6jCP",
    "outputId": "daaaf8a7-ae6f-4828-fdd8-a3ef96f387ac"
   },
   "outputs": [],
   "source": [
    "customer_id=29672\n",
    "recommended_products=get_product_recommendations(customer_id,n=50)\n",
    "print(f\"Top recommendations for Customer {customer_id}:\")\n",
    "for product_id, rating in recommended_products:\n",
    "    print(f\"Product ID: {product_id}, Estimated Rating: {rating}\")\n"
   ]
  },
  {
   "cell_type": "code",
   "execution_count": null,
   "metadata": {
    "id": "O9ipBayyRgy0"
   },
   "outputs": [],
   "source": [
    "import pickle\n",
    "with open('model.pkl','wb') as f:\n",
    "    pickle.dump(model,f)"
   ]
  },
  {
   "cell_type": "code",
   "execution_count": null,
   "metadata": {
    "colab": {
     "base_uri": "https://localhost:8080/",
     "height": 646
    },
    "id": "V2qGeKtARkNV",
    "outputId": "f0b39c82-4284-49bb-8feb-9d7aad9b8770"
   },
   "outputs": [],
   "source": [
    "import gradio as gr\n",
    "import pickle\n",
    "import pandas as pd\n",
    "\n",
    "# Assuming you have a trained model saved using Surprise (e.g., using SVD or KNN)\n",
    "with open('model.pkl', 'rb') as f:\n",
    "    recommendation_model = pickle.load(f)\n",
    "\n",
    "# Example dataset (used for mapping CustomerID to Products)\n",
    "# CustomerIDs: 11001, 11004, 11007\n",
    "# This would be the dataset used to train the model\n",
    "products_data =temp.copy()\n",
    "df_products = pd.DataFrame(products_data)\n",
    "\n",
    "# Function to get top N recommendations for a customer\n",
    "def get_top_recommendations(customer_id, n_recommendations=5):\n",
    "    # Convert customer_id to integer\n",
    "    try:\n",
    "        customer_id = int(customer_id)\n",
    "    except ValueError:\n",
    "        return \"Invalid Customer ID. Please enter a valid integer.\"\n",
    "\n",
    "    # Check if customer exists in the data\n",
    "    if customer_id not in df_products['CustomerID'].values:\n",
    "        return \"Customer ID not found.\"\n",
    "\n",
    "    # Get top N product recommendations for the customer using the model\n",
    "    recommendations = []\n",
    "    for product_id in df_products['ProductID'].unique():\n",
    "        # Predict the rating for each product\n",
    "        prediction = recommendation_model.predict(customer_id, product_id)\n",
    "        recommendations.append((product_id, prediction.est))\n",
    "\n",
    "    # Sort recommendations by predicted rating and get the top N\n",
    "    recommendations.sort(key=lambda x: x[1], reverse=True)\n",
    "    top_recommendations = recommendations[:n_recommendations]\n",
    "\n",
    "    # Format the output\n",
    "    output = f\"Top {n_recommendations} recommendations for Customer {customer_id}:\\n\"\n",
    "    for i, (product_id, score) in enumerate(top_recommendations, 1):\n",
    "        output += f\"{i}. Product {product_id} with predicted score {score:.2f}\\n\"\n",
    "\n",
    "    return output\n",
    "\n",
    "# Create the Gradio interface\n",
    "iface_recommendation = gr.Interface(\n",
    "    fn=get_top_recommendations,\n",
    "    inputs=[gr.Textbox(label=\"Customer ID\"), gr.Slider(label=\"Number of Recommendations\", minimum=1, maximum=10, value=5,step=1)],\n",
    "    outputs=gr.Textbox(),\n",
    "    title=\"Customer Top Recommendations\",\n",
    "    description=\"Enter a Customer ID to get the top product recommendations.\"\n",
    ")\n",
    "\n",
    "iface_recommendation.launch()\n"
   ]
  },
  {
   "cell_type": "code",
   "execution_count": null,
   "metadata": {
    "id": "_1VOuhN5SRT6"
   },
   "outputs": [],
   "source": []
  }
 ],
 "metadata": {
  "colab": {
   "provenance": []
  },
  "kernelspec": {
   "display_name": "Python 3 (ipykernel)",
   "language": "python",
   "name": "python3"
  },
  "language_info": {
   "codemirror_mode": {
    "name": "ipython",
    "version": 3
   },
   "file_extension": ".py",
   "mimetype": "text/x-python",
   "name": "python",
   "nbconvert_exporter": "python",
   "pygments_lexer": "ipython3",
   "version": "3.11.5"
  }
 },
 "nbformat": 4,
 "nbformat_minor": 1
}
