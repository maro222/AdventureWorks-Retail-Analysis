{
 "cells": [
  {
   "cell_type": "code",
   "execution_count": 1,
   "metadata": {
    "id": "7PFt7mLowuM7"
   },
   "outputs": [],
   "source": [
    "import pandas as pd\n",
    "import matplotlib.pyplot as plt\n",
    "import matplotlib.pyplot as plt\n",
    "import seaborn as sns\n",
    "\n",
    "from sklearn.preprocessing import StandardScaler\n",
    "from sklearn.cluster import KMeans\n",
    "from sklearn.metrics import silhouette_score\n",
    "\n",
    "from sklearn.metrics import precision_score, recall_score,accuracy_score\n",
    "\n"
   ]
  },
  {
   "cell_type": "code",
   "execution_count": 2,
   "metadata": {
    "colab": {
     "base_uri": "https://localhost:8080/"
    },
    "id": "WK7ViFojqr5c",
    "outputId": "0d631842-7dac-4d2b-9293-a7319c8e7232"
   },
   "outputs": [],
   "source": [
    "# !pip install surprise\n",
    "# !pip install pandas\n",
    "# !pip install matplotlib\n",
    "# !pip install seaborn\n",
    "# !pip install scikit-learn\n",
    "# !pip install numpy\n"
   ]
  },
  {
   "cell_type": "code",
   "execution_count": 3,
   "metadata": {
    "colab": {
     "base_uri": "https://localhost:8080/"
    },
    "id": "rYEmoKeIrfBL",
    "outputId": "a7513cff-9f5b-46ac-af5c-4019a0f68d2f"
   },
   "outputs": [
    {
     "name": "stdout",
     "output_type": "stream",
     "text": [
      "Requirement already satisfied: gradio in c:\\users\\user\\appdata\\roaming\\python\\python311\\site-packages (5.1.0)\n",
      "Requirement already satisfied: aiofiles<24.0,>=22.0 in c:\\users\\user\\anaconda3\\lib\\site-packages (from gradio) (22.1.0)\n",
      "Requirement already satisfied: anyio<5.0,>=3.0 in c:\\users\\user\\anaconda3\\lib\\site-packages (from gradio) (3.5.0)\n",
      "Requirement already satisfied: fastapi<1.0 in c:\\users\\user\\appdata\\roaming\\python\\python311\\site-packages (from gradio) (0.115.2)\n",
      "Requirement already satisfied: ffmpy in c:\\users\\user\\appdata\\roaming\\python\\python311\\site-packages (from gradio) (0.4.0)\n",
      "Requirement already satisfied: gradio-client==1.4.0 in c:\\users\\user\\appdata\\roaming\\python\\python311\\site-packages (from gradio) (1.4.0)\n",
      "Requirement already satisfied: httpx>=0.24.1 in c:\\users\\user\\appdata\\roaming\\python\\python311\\site-packages (from gradio) (0.27.2)\n",
      "Requirement already satisfied: huggingface-hub>=0.25.1 in c:\\users\\user\\appdata\\roaming\\python\\python311\\site-packages (from gradio) (0.26.0)\n",
      "Requirement already satisfied: jinja2<4.0 in c:\\users\\user\\anaconda3\\lib\\site-packages (from gradio) (3.1.2)\n",
      "Requirement already satisfied: markupsafe~=2.0 in c:\\users\\user\\anaconda3\\lib\\site-packages (from gradio) (2.1.1)\n",
      "Requirement already satisfied: numpy<3.0,>=1.0 in c:\\users\\user\\anaconda3\\lib\\site-packages (from gradio) (1.24.3)\n",
      "Requirement already satisfied: orjson~=3.0 in c:\\users\\user\\appdata\\roaming\\python\\python311\\site-packages (from gradio) (3.10.9)\n",
      "Requirement already satisfied: packaging in c:\\users\\user\\anaconda3\\lib\\site-packages (from gradio) (23.1)\n",
      "Requirement already satisfied: pandas<3.0,>=1.0 in c:\\users\\user\\anaconda3\\lib\\site-packages (from gradio) (2.0.3)\n",
      "Requirement already satisfied: pillow<11.0,>=8.0 in c:\\users\\user\\anaconda3\\lib\\site-packages (from gradio) (9.4.0)\n",
      "Requirement already satisfied: pydantic>=2.0 in c:\\users\\user\\appdata\\roaming\\python\\python311\\site-packages (from gradio) (2.9.2)\n",
      "Requirement already satisfied: pydub in c:\\users\\user\\appdata\\roaming\\python\\python311\\site-packages (from gradio) (0.25.1)\n",
      "Requirement already satisfied: python-multipart>=0.0.9 in c:\\users\\user\\appdata\\roaming\\python\\python311\\site-packages (from gradio) (0.0.12)\n",
      "Requirement already satisfied: pyyaml<7.0,>=5.0 in c:\\users\\user\\anaconda3\\lib\\site-packages (from gradio) (6.0)\n",
      "Requirement already satisfied: ruff>=0.2.2 in c:\\users\\user\\appdata\\roaming\\python\\python311\\site-packages (from gradio) (0.7.0)\n",
      "Requirement already satisfied: semantic-version~=2.0 in c:\\users\\user\\appdata\\roaming\\python\\python311\\site-packages (from gradio) (2.10.0)\n",
      "Requirement already satisfied: tomlkit==0.12.0 in c:\\users\\user\\appdata\\roaming\\python\\python311\\site-packages (from gradio) (0.12.0)\n",
      "Requirement already satisfied: typer<1.0,>=0.12 in c:\\users\\user\\appdata\\roaming\\python\\python311\\site-packages (from gradio) (0.12.5)\n",
      "Requirement already satisfied: typing-extensions~=4.0 in c:\\users\\user\\appdata\\roaming\\python\\python311\\site-packages (from gradio) (4.12.2)\n",
      "Requirement already satisfied: uvicorn>=0.14.0 in c:\\users\\user\\appdata\\roaming\\python\\python311\\site-packages (from gradio) (0.32.0)\n",
      "Requirement already satisfied: fsspec in c:\\users\\user\\appdata\\roaming\\python\\python311\\site-packages (from gradio-client==1.4.0->gradio) (2024.9.0)\n",
      "Requirement already satisfied: websockets<13.0,>=10.0 in c:\\users\\user\\appdata\\roaming\\python\\python311\\site-packages (from gradio-client==1.4.0->gradio) (12.0)\n",
      "Requirement already satisfied: idna>=2.8 in c:\\users\\user\\anaconda3\\lib\\site-packages (from anyio<5.0,>=3.0->gradio) (3.4)\n",
      "Requirement already satisfied: sniffio>=1.1 in c:\\users\\user\\anaconda3\\lib\\site-packages (from anyio<5.0,>=3.0->gradio) (1.2.0)\n",
      "Requirement already satisfied: starlette<0.41.0,>=0.37.2 in c:\\users\\user\\appdata\\roaming\\python\\python311\\site-packages (from fastapi<1.0->gradio) (0.40.0)\n",
      "Requirement already satisfied: certifi in c:\\users\\user\\anaconda3\\lib\\site-packages (from httpx>=0.24.1->gradio) (2023.7.22)\n",
      "Requirement already satisfied: httpcore==1.* in c:\\users\\user\\appdata\\roaming\\python\\python311\\site-packages (from httpx>=0.24.1->gradio) (1.0.6)\n",
      "Requirement already satisfied: h11<0.15,>=0.13 in c:\\users\\user\\appdata\\roaming\\python\\python311\\site-packages (from httpcore==1.*->httpx>=0.24.1->gradio) (0.14.0)\n",
      "Requirement already satisfied: filelock in c:\\users\\user\\anaconda3\\lib\\site-packages (from huggingface-hub>=0.25.1->gradio) (3.9.0)\n",
      "Requirement already satisfied: requests in c:\\users\\user\\anaconda3\\lib\\site-packages (from huggingface-hub>=0.25.1->gradio) (2.31.0)\n",
      "Requirement already satisfied: tqdm>=4.42.1 in c:\\users\\user\\anaconda3\\lib\\site-packages (from huggingface-hub>=0.25.1->gradio) (4.65.0)\n",
      "Requirement already satisfied: python-dateutil>=2.8.2 in c:\\users\\user\\anaconda3\\lib\\site-packages (from pandas<3.0,>=1.0->gradio) (2.8.2)\n",
      "Requirement already satisfied: pytz>=2020.1 in c:\\users\\user\\anaconda3\\lib\\site-packages (from pandas<3.0,>=1.0->gradio) (2023.3.post1)\n",
      "Requirement already satisfied: tzdata>=2022.1 in c:\\users\\user\\anaconda3\\lib\\site-packages (from pandas<3.0,>=1.0->gradio) (2023.3)\n",
      "Requirement already satisfied: annotated-types>=0.6.0 in c:\\users\\user\\appdata\\roaming\\python\\python311\\site-packages (from pydantic>=2.0->gradio) (0.7.0)\n",
      "Requirement already satisfied: pydantic-core==2.23.4 in c:\\users\\user\\appdata\\roaming\\python\\python311\\site-packages (from pydantic>=2.0->gradio) (2.23.4)\n",
      "Requirement already satisfied: click>=8.0.0 in c:\\users\\user\\anaconda3\\lib\\site-packages (from typer<1.0,>=0.12->gradio) (8.0.4)\n",
      "Requirement already satisfied: shellingham>=1.3.0 in c:\\users\\user\\appdata\\roaming\\python\\python311\\site-packages (from typer<1.0,>=0.12->gradio) (1.5.4)\n",
      "Requirement already satisfied: rich>=10.11.0 in c:\\users\\user\\appdata\\roaming\\python\\python311\\site-packages (from typer<1.0,>=0.12->gradio) (13.9.2)\n",
      "Requirement already satisfied: colorama in c:\\users\\user\\anaconda3\\lib\\site-packages (from click>=8.0.0->typer<1.0,>=0.12->gradio) (0.4.6)\n",
      "Requirement already satisfied: six>=1.5 in c:\\users\\user\\anaconda3\\lib\\site-packages (from python-dateutil>=2.8.2->pandas<3.0,>=1.0->gradio) (1.16.0)\n",
      "Requirement already satisfied: markdown-it-py>=2.2.0 in c:\\users\\user\\anaconda3\\lib\\site-packages (from rich>=10.11.0->typer<1.0,>=0.12->gradio) (2.2.0)\n",
      "Requirement already satisfied: pygments<3.0.0,>=2.13.0 in c:\\users\\user\\anaconda3\\lib\\site-packages (from rich>=10.11.0->typer<1.0,>=0.12->gradio) (2.15.1)\n",
      "Requirement already satisfied: charset-normalizer<4,>=2 in c:\\users\\user\\anaconda3\\lib\\site-packages (from requests->huggingface-hub>=0.25.1->gradio) (2.0.4)\n",
      "Requirement already satisfied: urllib3<3,>=1.21.1 in c:\\users\\user\\anaconda3\\lib\\site-packages (from requests->huggingface-hub>=0.25.1->gradio) (1.26.16)\n",
      "Requirement already satisfied: mdurl~=0.1 in c:\\users\\user\\anaconda3\\lib\\site-packages (from markdown-it-py>=2.2.0->rich>=10.11.0->typer<1.0,>=0.12->gradio) (0.1.0)\n"
     ]
    }
   ],
   "source": [
    "!pip install gradio"
   ]
  },
  {
   "cell_type": "code",
   "execution_count": 4,
   "metadata": {
    "colab": {
     "base_uri": "https://localhost:8080/",
     "height": 400
    },
    "id": "W4BvMQMyyOCB",
    "outputId": "7e8611e3-4f3f-42eb-d2a7-9b84627cba85"
   },
   "outputs": [
    {
     "data": {
      "text/html": [
       "<div>\n",
       "<style scoped>\n",
       "    .dataframe tbody tr th:only-of-type {\n",
       "        vertical-align: middle;\n",
       "    }\n",
       "\n",
       "    .dataframe tbody tr th {\n",
       "        vertical-align: top;\n",
       "    }\n",
       "\n",
       "    .dataframe thead th {\n",
       "        text-align: right;\n",
       "    }\n",
       "</style>\n",
       "<table border=\"1\" class=\"dataframe\">\n",
       "  <thead>\n",
       "    <tr style=\"text-align: right;\">\n",
       "      <th></th>\n",
       "      <th>ProductKey</th>\n",
       "      <th>OrderDateKey</th>\n",
       "      <th>OnlineCustomerID</th>\n",
       "      <th>CustomerID</th>\n",
       "      <th>SalesTerritoryKey</th>\n",
       "      <th>SalesOrderNumber</th>\n",
       "      <th>SalesOrderLineNumber</th>\n",
       "      <th>LineTotal</th>\n",
       "      <th>OrderQuantity</th>\n",
       "      <th>UnitPrice</th>\n",
       "      <th>UnitPriceDiscount</th>\n",
       "      <th>SubTotal</th>\n",
       "      <th>TaxAmt</th>\n",
       "      <th>Freight</th>\n",
       "      <th>TotalDue</th>\n",
       "      <th>OrderDate</th>\n",
       "      <th>DueDate</th>\n",
       "      <th>ShipDate</th>\n",
       "      <th>ModifiedDate</th>\n",
       "    </tr>\n",
       "  </thead>\n",
       "  <tbody>\n",
       "    <tr>\n",
       "      <th>0</th>\n",
       "      <td>776</td>\n",
       "      <td>20050701</td>\n",
       "      <td>1045</td>\n",
       "      <td>29825</td>\n",
       "      <td>5</td>\n",
       "      <td>43659</td>\n",
       "      <td>1</td>\n",
       "      <td>2024.99</td>\n",
       "      <td>1</td>\n",
       "      <td>2024.994</td>\n",
       "      <td>0.0</td>\n",
       "      <td>20565.6206</td>\n",
       "      <td>1971.5149</td>\n",
       "      <td>616.0984</td>\n",
       "      <td>23153.23</td>\n",
       "      <td>2005-07-01 00:00:00</td>\n",
       "      <td>2005-07-13 00:00:00</td>\n",
       "      <td>2005-07-08 00:00:00</td>\n",
       "      <td>2005-07-08 00:00:00</td>\n",
       "    </tr>\n",
       "    <tr>\n",
       "      <th>1</th>\n",
       "      <td>777</td>\n",
       "      <td>20050701</td>\n",
       "      <td>1045</td>\n",
       "      <td>29825</td>\n",
       "      <td>5</td>\n",
       "      <td>43659</td>\n",
       "      <td>2</td>\n",
       "      <td>6074.98</td>\n",
       "      <td>3</td>\n",
       "      <td>2024.994</td>\n",
       "      <td>0.0</td>\n",
       "      <td>20565.6206</td>\n",
       "      <td>1971.5149</td>\n",
       "      <td>616.0984</td>\n",
       "      <td>23153.23</td>\n",
       "      <td>2005-07-01 00:00:00</td>\n",
       "      <td>2005-07-13 00:00:00</td>\n",
       "      <td>2005-07-08 00:00:00</td>\n",
       "      <td>2005-07-08 00:00:00</td>\n",
       "    </tr>\n",
       "    <tr>\n",
       "      <th>2</th>\n",
       "      <td>778</td>\n",
       "      <td>20050701</td>\n",
       "      <td>1045</td>\n",
       "      <td>29825</td>\n",
       "      <td>5</td>\n",
       "      <td>43659</td>\n",
       "      <td>3</td>\n",
       "      <td>2024.99</td>\n",
       "      <td>1</td>\n",
       "      <td>2024.994</td>\n",
       "      <td>0.0</td>\n",
       "      <td>20565.6206</td>\n",
       "      <td>1971.5149</td>\n",
       "      <td>616.0984</td>\n",
       "      <td>23153.23</td>\n",
       "      <td>2005-07-01 00:00:00</td>\n",
       "      <td>2005-07-13 00:00:00</td>\n",
       "      <td>2005-07-08 00:00:00</td>\n",
       "      <td>2005-07-08 00:00:00</td>\n",
       "    </tr>\n",
       "    <tr>\n",
       "      <th>3</th>\n",
       "      <td>771</td>\n",
       "      <td>20050701</td>\n",
       "      <td>1045</td>\n",
       "      <td>29825</td>\n",
       "      <td>5</td>\n",
       "      <td>43659</td>\n",
       "      <td>4</td>\n",
       "      <td>2039.99</td>\n",
       "      <td>1</td>\n",
       "      <td>2039.994</td>\n",
       "      <td>0.0</td>\n",
       "      <td>20565.6206</td>\n",
       "      <td>1971.5149</td>\n",
       "      <td>616.0984</td>\n",
       "      <td>23153.23</td>\n",
       "      <td>2005-07-01 00:00:00</td>\n",
       "      <td>2005-07-13 00:00:00</td>\n",
       "      <td>2005-07-08 00:00:00</td>\n",
       "      <td>2005-07-08 00:00:00</td>\n",
       "    </tr>\n",
       "    <tr>\n",
       "      <th>4</th>\n",
       "      <td>772</td>\n",
       "      <td>20050701</td>\n",
       "      <td>1045</td>\n",
       "      <td>29825</td>\n",
       "      <td>5</td>\n",
       "      <td>43659</td>\n",
       "      <td>5</td>\n",
       "      <td>2039.99</td>\n",
       "      <td>1</td>\n",
       "      <td>2039.994</td>\n",
       "      <td>0.0</td>\n",
       "      <td>20565.6206</td>\n",
       "      <td>1971.5149</td>\n",
       "      <td>616.0984</td>\n",
       "      <td>23153.23</td>\n",
       "      <td>2005-07-01 00:00:00</td>\n",
       "      <td>2005-07-13 00:00:00</td>\n",
       "      <td>2005-07-08 00:00:00</td>\n",
       "      <td>2005-07-08 00:00:00</td>\n",
       "    </tr>\n",
       "  </tbody>\n",
       "</table>\n",
       "</div>"
      ],
      "text/plain": [
       "   ProductKey  OrderDateKey  OnlineCustomerID  CustomerID  SalesTerritoryKey  \\\n",
       "0         776      20050701              1045       29825                  5   \n",
       "1         777      20050701              1045       29825                  5   \n",
       "2         778      20050701              1045       29825                  5   \n",
       "3         771      20050701              1045       29825                  5   \n",
       "4         772      20050701              1045       29825                  5   \n",
       "\n",
       "   SalesOrderNumber  SalesOrderLineNumber  LineTotal  OrderQuantity  \\\n",
       "0             43659                     1    2024.99              1   \n",
       "1             43659                     2    6074.98              3   \n",
       "2             43659                     3    2024.99              1   \n",
       "3             43659                     4    2039.99              1   \n",
       "4             43659                     5    2039.99              1   \n",
       "\n",
       "   UnitPrice  UnitPriceDiscount    SubTotal     TaxAmt   Freight  TotalDue  \\\n",
       "0   2024.994                0.0  20565.6206  1971.5149  616.0984  23153.23   \n",
       "1   2024.994                0.0  20565.6206  1971.5149  616.0984  23153.23   \n",
       "2   2024.994                0.0  20565.6206  1971.5149  616.0984  23153.23   \n",
       "3   2039.994                0.0  20565.6206  1971.5149  616.0984  23153.23   \n",
       "4   2039.994                0.0  20565.6206  1971.5149  616.0984  23153.23   \n",
       "\n",
       "             OrderDate              DueDate             ShipDate  \\\n",
       "0  2005-07-01 00:00:00  2005-07-13 00:00:00  2005-07-08 00:00:00   \n",
       "1  2005-07-01 00:00:00  2005-07-13 00:00:00  2005-07-08 00:00:00   \n",
       "2  2005-07-01 00:00:00  2005-07-13 00:00:00  2005-07-08 00:00:00   \n",
       "3  2005-07-01 00:00:00  2005-07-13 00:00:00  2005-07-08 00:00:00   \n",
       "4  2005-07-01 00:00:00  2005-07-13 00:00:00  2005-07-08 00:00:00   \n",
       "\n",
       "          ModifiedDate  \n",
       "0  2005-07-08 00:00:00  \n",
       "1  2005-07-08 00:00:00  \n",
       "2  2005-07-08 00:00:00  \n",
       "3  2005-07-08 00:00:00  \n",
       "4  2005-07-08 00:00:00  "
      ]
     },
     "execution_count": 4,
     "metadata": {},
     "output_type": "execute_result"
    }
   ],
   "source": [
    "data=pd.read_csv(\"../Dataset/FactInternetSales.csv\")\n",
    "data.head()"
   ]
  },
  {
   "cell_type": "code",
   "execution_count": 5,
   "metadata": {
    "colab": {
     "base_uri": "https://localhost:8080/"
    },
    "id": "N9uPlHhiymKV",
    "outputId": "435dd51e-ea67-4390-d06f-607a952cd715"
   },
   "outputs": [
    {
     "name": "stdout",
     "output_type": "stream",
     "text": [
      "<class 'pandas.core.frame.DataFrame'>\n",
      "RangeIndex: 121317 entries, 0 to 121316\n",
      "Data columns (total 19 columns):\n",
      " #   Column                Non-Null Count   Dtype         \n",
      "---  ------                --------------   -----         \n",
      " 0   ProductKey            121317 non-null  int64         \n",
      " 1   OrderDateKey          121317 non-null  int64         \n",
      " 2   OnlineCustomerID      121317 non-null  int64         \n",
      " 3   CustomerID            121317 non-null  int64         \n",
      " 4   SalesTerritoryKey     121317 non-null  int64         \n",
      " 5   SalesOrderNumber      121317 non-null  int64         \n",
      " 6   SalesOrderLineNumber  121317 non-null  int64         \n",
      " 7   LineTotal             121317 non-null  float64       \n",
      " 8   OrderQuantity         121317 non-null  int64         \n",
      " 9   UnitPrice             121317 non-null  float64       \n",
      " 10  UnitPriceDiscount     121317 non-null  float64       \n",
      " 11  SubTotal              121317 non-null  float64       \n",
      " 12  TaxAmt                121317 non-null  float64       \n",
      " 13  Freight               121317 non-null  float64       \n",
      " 14  TotalDue              121317 non-null  float64       \n",
      " 15  OrderDate             121317 non-null  datetime64[ns]\n",
      " 16  DueDate               121317 non-null  object        \n",
      " 17  ShipDate              121317 non-null  object        \n",
      " 18  ModifiedDate          121317 non-null  object        \n",
      "dtypes: datetime64[ns](1), float64(7), int64(8), object(3)\n",
      "memory usage: 17.6+ MB\n"
     ]
    }
   ],
   "source": [
    "# Drop rows with missing CustomerKey, OrderDate, or SalesAmount\n",
    "data = data.dropna(subset=['CustomerID', 'OrderDate', 'TotalDue'])\n",
    "\n",
    "# Convert OrderDate to datetime if necessary\n",
    "data['OrderDate'] = pd.to_datetime(data['OrderDate'])\n",
    "\n",
    "# Preview the cleaned data\n",
    "data.info()\n"
   ]
  },
  {
   "cell_type": "code",
   "execution_count": 6,
   "metadata": {
    "colab": {
     "base_uri": "https://localhost:8080/",
     "height": 206
    },
    "id": "TVunLT1WzESr",
    "outputId": "2b7a558e-8902-409b-f636-c68dee657ea5"
   },
   "outputs": [
    {
     "data": {
      "text/html": [
       "<div>\n",
       "<style scoped>\n",
       "    .dataframe tbody tr th:only-of-type {\n",
       "        vertical-align: middle;\n",
       "    }\n",
       "\n",
       "    .dataframe tbody tr th {\n",
       "        vertical-align: top;\n",
       "    }\n",
       "\n",
       "    .dataframe thead th {\n",
       "        text-align: right;\n",
       "    }\n",
       "</style>\n",
       "<table border=\"1\" class=\"dataframe\">\n",
       "  <thead>\n",
       "    <tr style=\"text-align: right;\">\n",
       "      <th></th>\n",
       "      <th>CustomerID</th>\n",
       "      <th>Recency</th>\n",
       "      <th>Frequency</th>\n",
       "      <th>Monetary</th>\n",
       "    </tr>\n",
       "  </thead>\n",
       "  <tbody>\n",
       "    <tr>\n",
       "      <th>0</th>\n",
       "      <td>11000</td>\n",
       "      <td>423</td>\n",
       "      <td>8</td>\n",
       "      <td>22784.02</td>\n",
       "    </tr>\n",
       "    <tr>\n",
       "      <th>1</th>\n",
       "      <td>11001</td>\n",
       "      <td>202</td>\n",
       "      <td>11</td>\n",
       "      <td>22376.68</td>\n",
       "    </tr>\n",
       "    <tr>\n",
       "      <th>2</th>\n",
       "      <td>11002</td>\n",
       "      <td>492</td>\n",
       "      <td>4</td>\n",
       "      <td>11639.06</td>\n",
       "    </tr>\n",
       "    <tr>\n",
       "      <th>3</th>\n",
       "      <td>11003</td>\n",
       "      <td>416</td>\n",
       "      <td>9</td>\n",
       "      <td>24704.66</td>\n",
       "    </tr>\n",
       "    <tr>\n",
       "      <th>4</th>\n",
       "      <td>11004</td>\n",
       "      <td>425</td>\n",
       "      <td>6</td>\n",
       "      <td>16982.72</td>\n",
       "    </tr>\n",
       "  </tbody>\n",
       "</table>\n",
       "</div>"
      ],
      "text/plain": [
       "   CustomerID  Recency  Frequency  Monetary\n",
       "0       11000      423          8  22784.02\n",
       "1       11001      202         11  22376.68\n",
       "2       11002      492          4  11639.06\n",
       "3       11003      416          9  24704.66\n",
       "4       11004      425          6  16982.72"
      ]
     },
     "execution_count": 6,
     "metadata": {},
     "output_type": "execute_result"
    }
   ],
   "source": [
    "import datetime\n",
    "current_date = data['OrderDate'].max()\n",
    "year = current_date.year\n",
    "today =datetime.date(year, 12, 31)\n",
    "today=pd.to_datetime(today)\n",
    "\n",
    "# current_date = pd.to_datetime('2008-12-31')\n",
    "\n",
    "#Aggregate Features\n",
    "rfm = data.groupby('CustomerID').agg({\n",
    "    'OrderDate': lambda x: (today - x.max()).days,  # Recency\n",
    "    'TotalDue': ['count', 'sum']  # Frequency and Monetary\n",
    "}).reset_index()\n",
    "\n",
    "# Rename columns\n",
    "rfm.columns = ['CustomerID', 'Recency', 'Frequency', 'Monetary']\n",
    "temp=rfm.copy()\n",
    "rfm.head()"
   ]
  },
  {
   "cell_type": "code",
   "execution_count": 7,
   "metadata": {
    "colab": {
     "base_uri": "https://localhost:8080/"
    },
    "id": "UuHAHXN03O3d",
    "outputId": "3a89ccd9-df04-436a-c61f-236e3e0699f5"
   },
   "outputs": [
    {
     "data": {
      "text/plain": [
       "array([[ 0.53006709,  0.06249159, -0.0799505 ],\n",
       "       [-0.93915564,  0.17579426, -0.08020043],\n",
       "       [ 0.98878369, -0.08857864, -0.08678849],\n",
       "       [ 0.48353062,  0.10025915, -0.0787721 ],\n",
       "       [ 0.54336322, -0.01304353, -0.08350989]])"
      ]
     },
     "execution_count": 7,
     "metadata": {},
     "output_type": "execute_result"
    }
   ],
   "source": [
    "from sklearn.preprocessing import StandardScaler\n",
    "\n",
    "# Scale the RFM data: Models (use ditance between two points) Converge faster when the data is scaled.\n",
    "scaler = StandardScaler()\n",
    "rfm_scaled = scaler.fit_transform(rfm[['Recency', 'Frequency', 'Monetary']])\n",
    "\n",
    "rfm_scaled[:5]\n"
   ]
  },
  {
   "cell_type": "code",
   "execution_count": 8,
   "metadata": {
    "colab": {
     "base_uri": "https://localhost:8080/",
     "height": 206
    },
    "id": "YZM6Rga_33FV",
    "outputId": "0f231603-60f2-41c2-9a4a-4025fe1d308c"
   },
   "outputs": [
    {
     "name": "stderr",
     "output_type": "stream",
     "text": [
      "C:\\Users\\user\\anaconda3\\Lib\\site-packages\\sklearn\\cluster\\_kmeans.py:1412: FutureWarning: The default value of `n_init` will change from 10 to 'auto' in 1.4. Set the value of `n_init` explicitly to suppress the warning\n",
      "  super()._check_params_vs_input(X, default_n_init=10)\n"
     ]
    },
    {
     "data": {
      "text/html": [
       "<div>\n",
       "<style scoped>\n",
       "    .dataframe tbody tr th:only-of-type {\n",
       "        vertical-align: middle;\n",
       "    }\n",
       "\n",
       "    .dataframe tbody tr th {\n",
       "        vertical-align: top;\n",
       "    }\n",
       "\n",
       "    .dataframe thead th {\n",
       "        text-align: right;\n",
       "    }\n",
       "</style>\n",
       "<table border=\"1\" class=\"dataframe\">\n",
       "  <thead>\n",
       "    <tr style=\"text-align: right;\">\n",
       "      <th></th>\n",
       "      <th>CustomerID</th>\n",
       "      <th>Recency</th>\n",
       "      <th>Frequency</th>\n",
       "      <th>Monetary</th>\n",
       "      <th>Segment</th>\n",
       "    </tr>\n",
       "  </thead>\n",
       "  <tbody>\n",
       "    <tr>\n",
       "      <th>0</th>\n",
       "      <td>11000</td>\n",
       "      <td>423</td>\n",
       "      <td>8</td>\n",
       "      <td>22784.02</td>\n",
       "      <td>0</td>\n",
       "    </tr>\n",
       "    <tr>\n",
       "      <th>1</th>\n",
       "      <td>11001</td>\n",
       "      <td>202</td>\n",
       "      <td>11</td>\n",
       "      <td>22376.68</td>\n",
       "      <td>2</td>\n",
       "    </tr>\n",
       "    <tr>\n",
       "      <th>2</th>\n",
       "      <td>11002</td>\n",
       "      <td>492</td>\n",
       "      <td>4</td>\n",
       "      <td>11639.06</td>\n",
       "      <td>0</td>\n",
       "    </tr>\n",
       "    <tr>\n",
       "      <th>3</th>\n",
       "      <td>11003</td>\n",
       "      <td>416</td>\n",
       "      <td>9</td>\n",
       "      <td>24704.66</td>\n",
       "      <td>0</td>\n",
       "    </tr>\n",
       "    <tr>\n",
       "      <th>4</th>\n",
       "      <td>11004</td>\n",
       "      <td>425</td>\n",
       "      <td>6</td>\n",
       "      <td>16982.72</td>\n",
       "      <td>0</td>\n",
       "    </tr>\n",
       "  </tbody>\n",
       "</table>\n",
       "</div>"
      ],
      "text/plain": [
       "   CustomerID  Recency  Frequency  Monetary  Segment\n",
       "0       11000      423          8  22784.02        0\n",
       "1       11001      202         11  22376.68        2\n",
       "2       11002      492          4  11639.06        0\n",
       "3       11003      416          9  24704.66        0\n",
       "4       11004      425          6  16982.72        0"
      ]
     },
     "execution_count": 8,
     "metadata": {},
     "output_type": "execute_result"
    }
   ],
   "source": [
    "from sklearn.cluster import KMeans\n",
    "\n",
    "# Choose an optimal number of clusters, here we start with 4\n",
    "n_clusters=3\n",
    "kmeans = KMeans(n_clusters=n_clusters, random_state=7200)\n",
    "rfm['Segment'] = kmeans.fit_predict(rfm_scaled)\n",
    "rfm.head()"
   ]
  },
  {
   "cell_type": "code",
   "execution_count": 9,
   "metadata": {
    "colab": {
     "base_uri": "https://localhost:8080/",
     "height": 175
    },
    "id": "NM9vZfQL7hQa",
    "outputId": "958462d5-573d-4168-c544-0cc7d4651f97"
   },
   "outputs": [
    {
     "data": {
      "text/html": [
       "<div>\n",
       "<style scoped>\n",
       "    .dataframe tbody tr th:only-of-type {\n",
       "        vertical-align: middle;\n",
       "    }\n",
       "\n",
       "    .dataframe tbody tr th {\n",
       "        vertical-align: top;\n",
       "    }\n",
       "\n",
       "    .dataframe thead th {\n",
       "        text-align: right;\n",
       "    }\n",
       "</style>\n",
       "<table border=\"1\" class=\"dataframe\">\n",
       "  <thead>\n",
       "    <tr style=\"text-align: right;\">\n",
       "      <th></th>\n",
       "      <th>Recency</th>\n",
       "      <th>Frequency</th>\n",
       "      <th>Monetary</th>\n",
       "    </tr>\n",
       "    <tr>\n",
       "      <th>Segment</th>\n",
       "      <th></th>\n",
       "      <th></th>\n",
       "      <th></th>\n",
       "    </tr>\n",
       "  </thead>\n",
       "  <tbody>\n",
       "    <tr>\n",
       "      <th>0</th>\n",
       "      <td>490.305236</td>\n",
       "      <td>3.446666</td>\n",
       "      <td>2.759568e+04</td>\n",
       "    </tr>\n",
       "    <tr>\n",
       "      <th>1</th>\n",
       "      <td>281.492754</td>\n",
       "      <td>279.021739</td>\n",
       "      <td>1.677162e+07</td>\n",
       "    </tr>\n",
       "    <tr>\n",
       "      <th>2</th>\n",
       "      <td>263.688630</td>\n",
       "      <td>4.863088</td>\n",
       "      <td>3.481940e+04</td>\n",
       "    </tr>\n",
       "  </tbody>\n",
       "</table>\n",
       "</div>"
      ],
      "text/plain": [
       "            Recency   Frequency      Monetary\n",
       "Segment                                      \n",
       "0        490.305236    3.446666  2.759568e+04\n",
       "1        281.492754  279.021739  1.677162e+07\n",
       "2        263.688630    4.863088  3.481940e+04"
      ]
     },
     "execution_count": 9,
     "metadata": {},
     "output_type": "execute_result"
    }
   ],
   "source": [
    "mean_segments = rfm.groupby('Segment')[['Recency', 'Frequency', 'Monetary']].mean()\n",
    "mean_segments.head(n_clusters) # there are only four segments as we assigned before\n",
    "    # Segment 2: Formerly active but now disengaged customers.\n",
    "    # Segment 1: The most valuable, loyal customers.\n",
    "    # Segment 0: Less engaged, infrequent buyers with lower revenue contributions.\n"
   ]
  },
  {
   "cell_type": "code",
   "execution_count": 10,
   "metadata": {
    "colab": {
     "base_uri": "https://localhost:8080/"
    },
    "id": "ueKErXg-8TO3",
    "outputId": "fce9f8bc-6e78-4c8f-a825-bdbfc73b6063"
   },
   "outputs": [
    {
     "name": "stdout",
     "output_type": "stream",
     "text": [
      "Silhouette Score: 0.5507067901388597\n"
     ]
    }
   ],
   "source": [
    "#Measures how similar an object is to its own cluster compared to other clusters. A higher score indicates better-defined clusters.\n",
    "from sklearn.metrics import silhouette_score\n",
    "silhouette_avg = silhouette_score(rfm_scaled, kmeans.labels_)\n",
    "print(\"Silhouette Score:\", silhouette_avg)"
   ]
  },
  {
   "cell_type": "code",
   "execution_count": 11,
   "metadata": {
    "colab": {
     "base_uri": "https://localhost:8080/"
    },
    "id": "yCEwKvHu8NHO",
    "outputId": "ca1f1cff-c054-4c78-b794-01d6353c203d"
   },
   "outputs": [
    {
     "name": "stdout",
     "output_type": "stream",
     "text": [
      "Davies-Bouldin Index: 0.5859501755261195\n"
     ]
    }
   ],
   "source": [
    "#Measures the average similarity ratio of each cluster with the cluster that is most similar to it. Lower values indicate better clustering.\n",
    "from sklearn.metrics import davies_bouldin_score\n",
    "db_score = davies_bouldin_score(rfm_scaled, kmeans.labels_)\n",
    "print(\"Davies-Bouldin Index:\", db_score)\n"
   ]
  },
  {
   "cell_type": "code",
   "execution_count": 12,
   "metadata": {
    "colab": {
     "base_uri": "https://localhost:8080/",
     "height": 472
    },
    "id": "ABFgKemw9sDO",
    "outputId": "0824e021-ab67-4c83-f2cf-d627f3ab4488"
   },
   "outputs": [
    {
     "data": {
      "image/png": "[encoded data removed]",
      "text/plain": [
       "<Figure size 640x480 with 1 Axes>"
      ]
     },
     "metadata": {},
     "output_type": "display_data"
    }
   ],
   "source": [
    "import matplotlib.pyplot as plt\n",
    "import seaborn as sns\n",
    "\n",
    "# Plot the segments\n",
    "sns.scatterplot(x='Recency', y='Monetary', hue='Segment', data=rfm, palette='viridis')\n",
    "plt.title('Customer Segmentation')\n",
    "plt.show()"
   ]
  },
  {
   "cell_type": "code",
   "execution_count": 13,
   "metadata": {
    "colab": {
     "base_uri": "https://localhost:8080/",
     "height": 472
    },
    "id": "K7w9HTSI7c4H",
    "outputId": "79026d60-4722-48ef-a8ce-1388579584fd"
   },
   "outputs": [
    {
     "name": "stderr",
     "output_type": "stream",
     "text": [
      "C:\\Users\\user\\anaconda3\\Lib\\site-packages\\sklearn\\cluster\\_kmeans.py:1412: FutureWarning: The default value of `n_init` will change from 10 to 'auto' in 1.4. Set the value of `n_init` explicitly to suppress the warning\n",
      "  super()._check_params_vs_input(X, default_n_init=10)\n",
      "C:\\Users\\user\\anaconda3\\Lib\\site-packages\\sklearn\\cluster\\_kmeans.py:1412: FutureWarning: The default value of `n_init` will change from 10 to 'auto' in 1.4. Set the value of `n_init` explicitly to suppress the warning\n",
      "  super()._check_params_vs_input(X, default_n_init=10)\n",
      "C:\\Users\\user\\anaconda3\\Lib\\site-packages\\sklearn\\cluster\\_kmeans.py:1412: FutureWarning: The default value of `n_init` will change from 10 to 'auto' in 1.4. Set the value of `n_init` explicitly to suppress the warning\n",
      "  super()._check_params_vs_input(X, default_n_init=10)\n",
      "C:\\Users\\user\\anaconda3\\Lib\\site-packages\\sklearn\\cluster\\_kmeans.py:1412: FutureWarning: The default value of `n_init` will change from 10 to 'auto' in 1.4. Set the value of `n_init` explicitly to suppress the warning\n",
      "  super()._check_params_vs_input(X, default_n_init=10)\n",
      "C:\\Users\\user\\anaconda3\\Lib\\site-packages\\sklearn\\cluster\\_kmeans.py:1412: FutureWarning: The default value of `n_init` will change from 10 to 'auto' in 1.4. Set the value of `n_init` explicitly to suppress the warning\n",
      "  super()._check_params_vs_input(X, default_n_init=10)\n",
      "C:\\Users\\user\\anaconda3\\Lib\\site-packages\\sklearn\\cluster\\_kmeans.py:1412: FutureWarning: The default value of `n_init` will change from 10 to 'auto' in 1.4. Set the value of `n_init` explicitly to suppress the warning\n",
      "  super()._check_params_vs_input(X, default_n_init=10)\n",
      "C:\\Users\\user\\anaconda3\\Lib\\site-packages\\sklearn\\cluster\\_kmeans.py:1412: FutureWarning: The default value of `n_init` will change from 10 to 'auto' in 1.4. Set the value of `n_init` explicitly to suppress the warning\n",
      "  super()._check_params_vs_input(X, default_n_init=10)\n",
      "C:\\Users\\user\\anaconda3\\Lib\\site-packages\\sklearn\\cluster\\_kmeans.py:1412: FutureWarning: The default value of `n_init` will change from 10 to 'auto' in 1.4. Set the value of `n_init` explicitly to suppress the warning\n",
      "  super()._check_params_vs_input(X, default_n_init=10)\n"
     ]
    },
    {
     "data": {
      "image/png": "[encoded data removed]",
      "text/plain": [
       "<Figure size 640x480 with 1 Axes>"
      ]
     },
     "metadata": {},
     "output_type": "display_data"
    }
   ],
   "source": [
    "#Inertia (Within-Cluster Sum of Squares): Measures how tightly the clusters are packed. Lower inertia indicates better clustering.\n",
    "#-- how closely the data points in a cluster are to the cluster centroid.\n",
    "import matplotlib.pyplot as plt\n",
    "from sklearn.cluster import KMeans\n",
    "\n",
    "inertia = []\n",
    "k_values = range(2, 10)\n",
    "\n",
    "for k in k_values:\n",
    "    kmeans = KMeans(n_clusters=k, random_state=42)\n",
    "    kmeans.fit(rfm_scaled)\n",
    "    inertia.append(kmeans.inertia_)\n",
    "\n",
    "plt.plot(k_values, inertia, marker='o')\n",
    "plt.xlabel('Number of Clusters (k)')\n",
    "plt.ylabel('Inertia')\n",
    "plt.title('Elbow Method') #the graph looks like an elbow\n",
    "plt.show()\n"
   ]
  },
  {
   "cell_type": "code",
   "execution_count": 14,
   "metadata": {
    "colab": {
     "base_uri": "https://localhost:8080/",
     "height": 472
    },
    "id": "qM70q6cj7LCU",
    "outputId": "e1c8b221-d831-43fe-d882-ed39e6f57154"
   },
   "outputs": [
    {
     "name": "stderr",
     "output_type": "stream",
     "text": [
      "C:\\Users\\user\\anaconda3\\Lib\\site-packages\\sklearn\\cluster\\_kmeans.py:1412: FutureWarning: The default value of `n_init` will change from 10 to 'auto' in 1.4. Set the value of `n_init` explicitly to suppress the warning\n",
      "  super()._check_params_vs_input(X, default_n_init=10)\n",
      "C:\\Users\\user\\anaconda3\\Lib\\site-packages\\sklearn\\cluster\\_kmeans.py:1412: FutureWarning: The default value of `n_init` will change from 10 to 'auto' in 1.4. Set the value of `n_init` explicitly to suppress the warning\n",
      "  super()._check_params_vs_input(X, default_n_init=10)\n",
      "C:\\Users\\user\\anaconda3\\Lib\\site-packages\\sklearn\\cluster\\_kmeans.py:1412: FutureWarning: The default value of `n_init` will change from 10 to 'auto' in 1.4. Set the value of `n_init` explicitly to suppress the warning\n",
      "  super()._check_params_vs_input(X, default_n_init=10)\n",
      "C:\\Users\\user\\anaconda3\\Lib\\site-packages\\sklearn\\cluster\\_kmeans.py:1412: FutureWarning: The default value of `n_init` will change from 10 to 'auto' in 1.4. Set the value of `n_init` explicitly to suppress the warning\n",
      "  super()._check_params_vs_input(X, default_n_init=10)\n",
      "C:\\Users\\user\\anaconda3\\Lib\\site-packages\\sklearn\\cluster\\_kmeans.py:1412: FutureWarning: The default value of `n_init` will change from 10 to 'auto' in 1.4. Set the value of `n_init` explicitly to suppress the warning\n",
      "  super()._check_params_vs_input(X, default_n_init=10)\n",
      "C:\\Users\\user\\anaconda3\\Lib\\site-packages\\sklearn\\cluster\\_kmeans.py:1412: FutureWarning: The default value of `n_init` will change from 10 to 'auto' in 1.4. Set the value of `n_init` explicitly to suppress the warning\n",
      "  super()._check_params_vs_input(X, default_n_init=10)\n",
      "C:\\Users\\user\\anaconda3\\Lib\\site-packages\\sklearn\\cluster\\_kmeans.py:1412: FutureWarning: The default value of `n_init` will change from 10 to 'auto' in 1.4. Set the value of `n_init` explicitly to suppress the warning\n",
      "  super()._check_params_vs_input(X, default_n_init=10)\n",
      "C:\\Users\\user\\anaconda3\\Lib\\site-packages\\sklearn\\cluster\\_kmeans.py:1412: FutureWarning: The default value of `n_init` will change from 10 to 'auto' in 1.4. Set the value of `n_init` explicitly to suppress the warning\n",
      "  super()._check_params_vs_input(X, default_n_init=10)\n"
     ]
    },
    {
     "data": {
      "image/png": "[encoded data removed]",
      "text/plain": [
       "<Figure size 640x480 with 1 Axes>"
      ]
     },
     "metadata": {},
     "output_type": "display_data"
    }
   ],
   "source": [
    "#Measures how similar an object is to its own cluster compared to other clusters. A higher score indicates better-defined clusters.\n",
    "\n",
    "from sklearn.metrics import silhouette_score\n",
    "\n",
    "silhouette_scores = []\n",
    "\n",
    "for k in k_values:\n",
    "    kmeans = KMeans(n_clusters=k, random_state=42)\n",
    "    kmeans.fit(rfm_scaled)\n",
    "    score = silhouette_score(rfm_scaled, kmeans.labels_)\n",
    "    silhouette_scores.append(score)\n",
    "\n",
    "\n",
    "plt.plot(k_values, silhouette_scores, marker='o')\n",
    "plt.xlabel('Number of Clusters (k)')\n",
    "plt.ylabel('Silhouette Score')\n",
    "plt.title('Silhouette Score Method')\n",
    "plt.show()\n"
   ]
  },
  {
   "cell_type": "code",
   "execution_count": 15,
   "metadata": {
    "colab": {
     "base_uri": "https://localhost:8080/",
     "height": 472
    },
    "id": "1wBEFHvp6O5R",
    "outputId": "b28dd1c4-af47-4e9d-c7b4-db9f046457e9"
   },
   "outputs": [
    {
     "name": "stderr",
     "output_type": "stream",
     "text": [
      "C:\\Users\\user\\anaconda3\\Lib\\site-packages\\sklearn\\cluster\\_kmeans.py:1412: FutureWarning: The default value of `n_init` will change from 10 to 'auto' in 1.4. Set the value of `n_init` explicitly to suppress the warning\n",
      "  super()._check_params_vs_input(X, default_n_init=10)\n",
      "C:\\Users\\user\\anaconda3\\Lib\\site-packages\\sklearn\\cluster\\_kmeans.py:1412: FutureWarning: The default value of `n_init` will change from 10 to 'auto' in 1.4. Set the value of `n_init` explicitly to suppress the warning\n",
      "  super()._check_params_vs_input(X, default_n_init=10)\n",
      "C:\\Users\\user\\anaconda3\\Lib\\site-packages\\sklearn\\cluster\\_kmeans.py:1412: FutureWarning: The default value of `n_init` will change from 10 to 'auto' in 1.4. Set the value of `n_init` explicitly to suppress the warning\n",
      "  super()._check_params_vs_input(X, default_n_init=10)\n",
      "C:\\Users\\user\\anaconda3\\Lib\\site-packages\\sklearn\\cluster\\_kmeans.py:1412: FutureWarning: The default value of `n_init` will change from 10 to 'auto' in 1.4. Set the value of `n_init` explicitly to suppress the warning\n",
      "  super()._check_params_vs_input(X, default_n_init=10)\n",
      "C:\\Users\\user\\anaconda3\\Lib\\site-packages\\sklearn\\cluster\\_kmeans.py:1412: FutureWarning: The default value of `n_init` will change from 10 to 'auto' in 1.4. Set the value of `n_init` explicitly to suppress the warning\n",
      "  super()._check_params_vs_input(X, default_n_init=10)\n",
      "C:\\Users\\user\\anaconda3\\Lib\\site-packages\\sklearn\\cluster\\_kmeans.py:1412: FutureWarning: The default value of `n_init` will change from 10 to 'auto' in 1.4. Set the value of `n_init` explicitly to suppress the warning\n",
      "  super()._check_params_vs_input(X, default_n_init=10)\n",
      "C:\\Users\\user\\anaconda3\\Lib\\site-packages\\sklearn\\cluster\\_kmeans.py:1412: FutureWarning: The default value of `n_init` will change from 10 to 'auto' in 1.4. Set the value of `n_init` explicitly to suppress the warning\n",
      "  super()._check_params_vs_input(X, default_n_init=10)\n",
      "C:\\Users\\user\\anaconda3\\Lib\\site-packages\\sklearn\\cluster\\_kmeans.py:1412: FutureWarning: The default value of `n_init` will change from 10 to 'auto' in 1.4. Set the value of `n_init` explicitly to suppress the warning\n",
      "  super()._check_params_vs_input(X, default_n_init=10)\n"
     ]
    },
    {
     "data": {
      "image/png": "[encoded data removed]",
      "text/plain": [
       "<Figure size 640x480 with 1 Axes>"
      ]
     },
     "metadata": {},
     "output_type": "display_data"
    }
   ],
   "source": [
    "#Measures the average similarity ratio of each cluster with the cluster that is most similar to it. Lower values indicate better clustering.\n",
    "\n",
    "from sklearn.metrics import davies_bouldin_score\n",
    "\n",
    "db_scores = []\n",
    "\n",
    "for k in k_values:\n",
    "    kmeans = KMeans(n_clusters=k, random_state=42)\n",
    "    kmeans.fit(rfm_scaled)\n",
    "    score = davies_bouldin_score(rfm_scaled, kmeans.labels_)\n",
    "    db_scores.append(score)\n",
    "\n",
    "plt.plot(k_values, db_scores, marker='o')\n",
    "plt.xlabel('Number of Clusters (k)')\n",
    "plt.ylabel('Davies-Bouldin Index')\n",
    "plt.title('Davies-Bouldin Index Method')\n",
    "plt.show()\n"
   ]
  },
  {
   "cell_type": "code",
   "execution_count": 16,
   "metadata": {
    "id": "qZKrMJxKulFU"
   },
   "outputs": [],
   "source": [
    "import pickle\n",
    "# Save the model to a file\n",
    "with open('kmeans_model.pkl', 'wb') as f:\n",
    "    pickle.dump(kmeans, f)\n"
   ]
  },
  {
   "cell_type": "code",
   "execution_count": 17,
   "metadata": {
    "colab": {
     "base_uri": "https://localhost:8080/",
     "height": 625
    },
    "id": "X11S8v_HvKXx",
    "outputId": "85e8c2a4-7bbe-4c24-b2f3-f86d59b787ee"
   },
   "outputs": [
    {
     "name": "stdout",
     "output_type": "stream",
     "text": [
      "* Running on local URL:  http://127.0.0.1:7860\n",
      "\n",
      "To create a public link, set `share=True` in `launch()`.\n"
     ]
    },
    {
     "data": {
      "text/html": [
       "<div><iframe src=\"http://127.0.0.1:7860/\" width=\"100%\" height=\"500\" allow=\"autoplay; camera; microphone; clipboard-read; clipboard-write;\" frameborder=\"0\" allowfullscreen></iframe></div>"
      ],
      "text/plain": [
       "<IPython.core.display.HTML object>"
      ]
     },
     "metadata": {},
     "output_type": "display_data"
    },
    {
     "data": {
      "text/plain": []
     },
     "execution_count": 17,
     "metadata": {},
     "output_type": "execute_result"
    }
   ],
   "source": [
    "import gradio as gr\n",
    "import pandas as pd\n",
    "import pickle\n",
    "\n",
    "# Load the trained model\n",
    "with open('kmeans_model.pkl', 'rb') as f:\n",
    "    kmeans = pickle.load(f)\n",
    "\n",
    "# Example customer data DataFrame (for prediction)\n",
    "#CustomerIDs example: 30113 23941 19817 14761\n",
    "customer_data=temp.copy()\n",
    "# customer_data = {\n",
    "#     'CustomerID': [1, 2, 3, 4],\n",
    "#     'Recency': [10, 20, 30, 40],\n",
    "#     'Frequency': [5, 10, 2, 4],\n",
    "#     'Monetary': [100, 150, 50, 80]\n",
    "# }\n",
    "\n",
    "df = pd.DataFrame(customer_data)\n",
    "\n",
    "def segment_customer(customer_id):\n",
    "    # Convert customer_id to integer\n",
    "    try:\n",
    "        customer_id = int(customer_id)\n",
    "    except ValueError:\n",
    "        return \"Invalid Customer ID. Please enter a valid integer.\"\n",
    "\n",
    "    # Fetch customer data based on ID\n",
    "    customer = df[df['CustomerID'] == customer_id]\n",
    "\n",
    "    # Check if the customer exists\n",
    "    if customer.empty:\n",
    "        return \"Customer ID not found.\"\n",
    "\n",
    "    # Extract features for prediction row\n",
    "    features = customer[['Recency', 'Frequency', 'Monetary']].values\n",
    "\n",
    "    # Predict the segment\n",
    "    segment = kmeans.predict(features)\n",
    "\n",
    "    # Segment 2: Formerly active but now disengaged customers: May Churned.\n",
    "    # Segment 1: The most valuable, loyal customer: Loyal Customers\n",
    "    # Segment 0: Less engaged, infrequent buyers with lower revenue contributions:Occasional Buyers\n",
    "    x=\"\"\n",
    "    if segment[0] == 0:\n",
    "        x=\"Occasional Buyers\"\n",
    "    elif segment[0] == 1:\n",
    "        x=\"Loyal Customers\"\n",
    "    else:\n",
    "        x=\"May Churn\"\n",
    "    return f\"Customer {customer_id} is in the {x} Segment\"\n",
    "\n",
    "iface_segmentation = gr.Interface(\n",
    "    fn=segment_customer,\n",
    "    inputs=gr.Textbox(label=\"Customer ID\"),  # Input component\n",
    "    outputs=gr.Label(),  # Output component\n",
    "    title=\"Customer Segmentation\",\n",
    "    description=\"Enter Customer ID to get the customer segment.\"\n",
    ")\n",
    "\n",
    "iface_segmentation.launch()\n"
   ]
  },
  {
   "cell_type": "code",
   "execution_count": 18,
   "metadata": {},
   "outputs": [],
   "source": [
    "temp.to_csv('customers_Segs.csv', index=False)"
   ]
  },
  {
   "cell_type": "code",
   "execution_count": 19,
   "metadata": {},
   "outputs": [
    {
     "name": "stdout",
     "output_type": "stream",
     "text": [
      "Overwriting app.py\n"
     ]
    }
   ],
   "source": [
    "%%writefile app.py\n",
    "import streamlit as st\n",
    "import pandas as pd\n",
    "import pickle\n",
    "\n",
    "# Load the trained KMeans model\n",
    "with open('kmeans_model.pkl', 'rb') as f:\n",
    "    kmeans = pickle.load(f)\n",
    "\n",
    "# Load customer data from CSV\n",
    "df = pd.read_csv('Customer_Seg.csv')\n",
    "\n",
    "# Function to segment customer\n",
    "def segment_customer(customer_id):\n",
    "    # Convert customer_id to integer\n",
    "    try:\n",
    "        customer_id = int(customer_id)\n",
    "    except ValueError:\n",
    "        return \"Invalid Customer ID. Please enter a valid integer.\"\n",
    "\n",
    "    # Fetch customer data based on ID\n",
    "    customer = df[df['CustomerID'] == customer_id]\n",
    "\n",
    "    # Check if the customer exists\n",
    "    if customer.empty:\n",
    "        return \"Customer ID not found.\"\n",
    "\n",
    "    # Extract features for prediction row\n",
    "    features = customer[['Recency', 'Frequency', 'Monetary']].values\n",
    "\n",
    "    # Predict the segment\n",
    "    segment = kmeans.predict(features)\n",
    "\n",
    "    # Segment descriptions\n",
    "    if segment[0] == 0:\n",
    "        return f\"Customer {customer_id} is in the Occasional Buyers Segment\"\n",
    "    elif segment[0] == 1:\n",
    "        return f\"Customer {customer_id} is in the Loyal Customers Segment\"\n",
    "    else:\n",
    "        return f\"Customer {customer_id} is in the May Churn Segment\"\n",
    "\n",
    "# Streamlit App\n",
    "st.title(\"Customer Segmentation\")\n",
    "\n",
    "# Input for customer ID\n",
    "customer_id = st.text_input(\"Customer ID\", \"\")  # Text input for Customer ID\n",
    "\n",
    "# Button to get the segment\n",
    "if st.button(\"Get Segment\"):\n",
    "    # Call the function and display the result\n",
    "    result = segment_customer(customer_id)\n",
    "    st.write(result)\n"
   ]
  },
  {
   "cell_type": "code",
   "execution_count": 20,
   "metadata": {},
   "outputs": [
    {
     "name": "stderr",
     "output_type": "stream",
     "text": [
      "'wget' is not recognized as an internal or external command,\n",
      "operable program or batch file.\n"
     ]
    }
   ],
   "source": [
    "!wget -q -O - ipv4.icanhazip.com"
   ]
  },
  {
   "cell_type": "code",
   "execution_count": 21,
   "metadata": {},
   "outputs": [
    {
     "name": "stdout",
     "output_type": "stream",
     "text": [
      "^C\n"
     ]
    }
   ],
   "source": [
    "!streamlit run app.py & npx localtunnel --port 850"
   ]
  },
  {
   "cell_type": "code",
   "execution_count": null,
   "metadata": {},
   "outputs": [],
   "source": []
  }
 ],
 "metadata": {
  "colab": {
   "provenance": []
  },
  "kernelspec": {
   "display_name": "Python 3 (ipykernel)",
   "language": "python",
   "name": "python3"
  },
  "language_info": {
   "codemirror_mode": {
    "name": "ipython",
    "version": 3
   },
   "file_extension": ".py",
   "mimetype": "text/x-python",
   "name": "python",
   "nbconvert_exporter": "python",
   "pygments_lexer": "ipython3",
   "version": "3.11.5"
  }
 },
 "nbformat": 4,
 "nbformat_minor": 1
}
